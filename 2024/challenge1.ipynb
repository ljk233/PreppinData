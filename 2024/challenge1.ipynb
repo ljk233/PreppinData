{
 "cells": [
  {
   "cell_type": "markdown",
   "id": "2ee1bec1-f8e4-47dc-ab40-7efa957dfb66",
   "metadata": {},
   "source": [
    "# Challenge 1"
   ]
  },
  {
   "cell_type": "markdown",
   "id": "e6a6f62b-bbdc-4da8-a4b3-054dd8c16a50",
   "metadata": {},
   "source": [
    "```yaml\n",
    "title: \"Prep Air's Flow Card\"\n",
    "week: 1\n",
    "posted_on: 2024-01-03\n",
    "created_on: 2024-03-07\n",
    "last_upated: 2024-03-08\n",
    "input: [\n",
    "    \"PD 2024 Wk 1 Input.csv\"\n",
    "]\n",
    "output: [\n",
    "    \"passenger_flight_details.ndjson\"\n",
    "]\n",
    "```"
   ]
  },
  {
   "cell_type": "markdown",
   "id": "266a0764-e954-4e8d-9dd1-ca489bdb1c71",
   "metadata": {},
   "source": [
    "## Setup the notebook"
   ]
  },
  {
   "cell_type": "code",
   "execution_count": 1,
   "id": "eb092836-7198-4297-8b5f-033b8d97f34a",
   "metadata": {},
   "outputs": [],
   "source": [
    "import polars as pl\n",
    "\n",
    "from src.challenge1 import run_pipeline"
   ]
  },
  {
   "cell_type": "markdown",
   "id": "31069b74-5f66-4b73-a6f8-e9f1e612292b",
   "metadata": {},
   "source": [
    "## Parameters"
   ]
  },
  {
   "cell_type": "code",
   "execution_count": 2,
   "id": "0fec49d8-30ab-4954-89a8-49bd32f67df3",
   "metadata": {},
   "outputs": [],
   "source": [
    "INPUT_CSV = \"input/PD 2024 Wk 1 Input.csv\"\n",
    "OUTPUT_NDJSON = \"output/flight_details.ndjson\""
   ]
  },
  {
   "cell_type": "markdown",
   "id": "6183ab85-64ee-4e2f-a715-7d43ad61dc7c",
   "metadata": {},
   "source": [
    "## Run the pipline"
   ]
  },
  {
   "cell_type": "markdown",
   "id": "141cd230-4e89-4866-b72b-79ce277453be",
   "metadata": {},
   "source": [
    "Load the data."
   ]
  },
  {
   "cell_type": "code",
   "execution_count": 3,
   "id": "e42db3a4-ab15-4408-abed-7d2166fb5024",
   "metadata": {},
   "outputs": [],
   "source": [
    "data = pl.scan_csv(INPUT_CSV)"
   ]
  },
  {
   "cell_type": "markdown",
   "id": "9d1ac202-8181-46c2-b0b9-2a0c32d99e48",
   "metadata": {},
   "source": [
    "Preview the input data."
   ]
  },
  {
   "cell_type": "code",
   "execution_count": 4,
   "id": "cdc91f81-accc-47f1-9bb9-6398bbda2c77",
   "metadata": {},
   "outputs": [
    {
     "data": {
      "text/html": [
       "<div><style>\n",
       ".dataframe > thead > tr,\n",
       ".dataframe > tbody > tr {\n",
       "  text-align: right;\n",
       "  white-space: pre-wrap;\n",
       "}\n",
       "</style>\n",
       "<small>shape: (8, 4)</small><table border=\"1\" class=\"dataframe\"><thead><tr><th>Flight Details</th><th>Flow Card?</th><th>Bags Checked</th><th>Meal Type</th></tr><tr><td>str</td><td>i64</td><td>i64</td><td>str</td></tr></thead><tbody><tr><td>&quot;2024-05-10//PA…</td><td>0</td><td>1</td><td>&quot;Nut Free&quot;</td></tr><tr><td>&quot;2024-08-23//PA…</td><td>0</td><td>0</td><td>&quot;Egg Free&quot;</td></tr><tr><td>&quot;2024-08-09//PA…</td><td>1</td><td>1</td><td>&quot;Nut Free&quot;</td></tr><tr><td>&quot;2024-12-11//PA…</td><td>0</td><td>0</td><td>&quot;Egg Free&quot;</td></tr><tr><td>&quot;2024-08-15//PA…</td><td>1</td><td>1</td><td>&quot;Nut Free&quot;</td></tr><tr><td>&quot;2024-01-16//PA…</td><td>0</td><td>1</td><td>&quot;Dairy Free&quot;</td></tr><tr><td>&quot;2024-01-03//PA…</td><td>1</td><td>2</td><td>&quot;Dairy Free&quot;</td></tr><tr><td>&quot;2024-05-26//PA…</td><td>1</td><td>1</td><td>&quot;Egg Free&quot;</td></tr></tbody></table></div>"
      ],
      "text/plain": [
       "shape: (8, 4)\n",
       "┌───────────────────────────────────┬────────────┬──────────────┬────────────┐\n",
       "│ Flight Details                    ┆ Flow Card? ┆ Bags Checked ┆ Meal Type  │\n",
       "│ ---                               ┆ ---        ┆ ---          ┆ ---        │\n",
       "│ str                               ┆ i64        ┆ i64          ┆ str        │\n",
       "╞═══════════════════════════════════╪════════════╪══════════════╪════════════╡\n",
       "│ 2024-05-10//PA008//Perth-New Yor… ┆ 0          ┆ 1            ┆ Nut Free   │\n",
       "│ 2024-08-23//PA003//London-Perth/… ┆ 0          ┆ 0            ┆ Egg Free   │\n",
       "│ 2024-08-09//PA002//New York-Lond… ┆ 1          ┆ 1            ┆ Nut Free   │\n",
       "│ 2024-12-11//PA012//Tokyo-Perth//… ┆ 0          ┆ 0            ┆ Egg Free   │\n",
       "│ 2024-08-15//PA001//London-New Yo… ┆ 1          ┆ 1            ┆ Nut Free   │\n",
       "│ 2024-01-16//PA009//New York-Toky… ┆ 0          ┆ 1            ┆ Dairy Free │\n",
       "│ 2024-01-03//PA008//Perth-New Yor… ┆ 1          ┆ 2            ┆ Dairy Free │\n",
       "│ 2024-05-26//PA008//Perth-New Yor… ┆ 1          ┆ 1            ┆ Egg Free   │\n",
       "└───────────────────────────────────┴────────────┴──────────────┴────────────┘"
      ]
     },
     "execution_count": 4,
     "metadata": {},
     "output_type": "execute_result"
    }
   ],
   "source": [
    "data.collect().sample(8)"
   ]
  },
  {
   "cell_type": "markdown",
   "id": "226b3bd9-d05c-4de0-a25e-6b3e3db8ef09",
   "metadata": {},
   "source": [
    "Run the transformation pipeline."
   ]
  },
  {
   "cell_type": "code",
   "execution_count": 5,
   "id": "2d11c09e-24ad-4fd1-89a2-e1e48b857910",
   "metadata": {},
   "outputs": [],
   "source": [
    "transformed_data = data.pipe(run_pipeline)"
   ]
  },
  {
   "cell_type": "markdown",
   "id": "f5f17510-6924-4fc9-8288-1db1c512ef2c",
   "metadata": {},
   "source": [
    "This is the end of the activity, so collect the data."
   ]
  },
  {
   "cell_type": "code",
   "execution_count": 6,
   "id": "1232521e-5989-4c12-a8a3-ab73bc791ee8",
   "metadata": {},
   "outputs": [],
   "source": [
    "collected_data = transformed_data.collect()"
   ]
  },
  {
   "cell_type": "markdown",
   "id": "17cc081b-d9fa-4935-93c0-135b3ef40566",
   "metadata": {},
   "source": [
    "Preview the output data."
   ]
  },
  {
   "cell_type": "code",
   "execution_count": 7,
   "id": "678275e5-8ccf-4e02-ba47-e4e4df39be5c",
   "metadata": {},
   "outputs": [
    {
     "data": {
      "text/html": [
       "<div><style>\n",
       ".dataframe > thead > tr,\n",
       ".dataframe > tbody > tr {\n",
       "  text-align: right;\n",
       "  white-space: pre-wrap;\n",
       "}\n",
       "</style>\n",
       "<small>shape: (8, 10)</small><table border=\"1\" class=\"dataframe\"><thead><tr><th>id</th><th>date</th><th>flight_number</th><th>from</th><th>to</th><th>class</th><th>price</th><th>has_flow_card</th><th>number_of_bags_checked</th><th>meal_type</th></tr><tr><td>u32</td><td>date</td><td>str</td><td>str</td><td>str</td><td>str</td><td>f64</td><td>bool</td><td>i64</td><td>str</td></tr></thead><tbody><tr><td>2716</td><td>2024-02-19</td><td>&quot;PA010&quot;</td><td>&quot;Tokyo&quot;</td><td>&quot;New York&quot;</td><td>&quot;Premium Econom…</td><td>1502.5</td><td>false</td><td>0</td><td>&quot;Nut Free&quot;</td></tr><tr><td>661</td><td>2024-07-22</td><td>&quot;PA010&quot;</td><td>&quot;Tokyo&quot;</td><td>&quot;New York&quot;</td><td>&quot;Premium Econom…</td><td>1540.0</td><td>false</td><td>0</td><td>&quot;Dairy Free&quot;</td></tr><tr><td>1742</td><td>2024-10-14</td><td>&quot;PA009&quot;</td><td>&quot;New York&quot;</td><td>&quot;Tokyo&quot;</td><td>&quot;Economy&quot;</td><td>1435.0</td><td>false</td><td>1</td><td>&quot;Dairy Free&quot;</td></tr><tr><td>2293</td><td>2024-06-01</td><td>&quot;PA012&quot;</td><td>&quot;Tokyo&quot;</td><td>&quot;Perth&quot;</td><td>&quot;First Class&quot;</td><td>647.0</td><td>false</td><td>2</td><td>&quot;Vegan&quot;</td></tr><tr><td>436</td><td>2024-04-04</td><td>&quot;PA010&quot;</td><td>&quot;Tokyo&quot;</td><td>&quot;New York&quot;</td><td>&quot;First Class&quot;</td><td>266.0</td><td>false</td><td>1</td><td>&quot;Dairy Free&quot;</td></tr><tr><td>3644</td><td>2024-12-26</td><td>&quot;PA006&quot;</td><td>&quot;Tokyo&quot;</td><td>&quot;London&quot;</td><td>&quot;Premium Econom…</td><td>1060.0</td><td>true</td><td>1</td><td>&quot;Vegan&quot;</td></tr><tr><td>3415</td><td>2024-01-13</td><td>&quot;PA002&quot;</td><td>&quot;New York&quot;</td><td>&quot;London&quot;</td><td>&quot;Economy&quot;</td><td>3040.0</td><td>false</td><td>0</td><td>&quot;None&quot;</td></tr><tr><td>2943</td><td>2024-07-30</td><td>&quot;PA011&quot;</td><td>&quot;Perth&quot;</td><td>&quot;Tokyo&quot;</td><td>&quot;Premium Econom…</td><td>1305.0</td><td>false</td><td>1</td><td>&quot;Vegetarian&quot;</td></tr></tbody></table></div>"
      ],
      "text/plain": [
       "shape: (8, 10)\n",
       "┌──────┬────────────┬─────────────┬──────────┬───┬────────┬─────────────┬─────────────┬────────────┐\n",
       "│ id   ┆ date       ┆ flight_numb ┆ from     ┆ … ┆ price  ┆ has_flow_ca ┆ number_of_b ┆ meal_type  │\n",
       "│ ---  ┆ ---        ┆ er          ┆ ---      ┆   ┆ ---    ┆ rd          ┆ ags_checked ┆ ---        │\n",
       "│ u32  ┆ date       ┆ ---         ┆ str      ┆   ┆ f64    ┆ ---         ┆ ---         ┆ str        │\n",
       "│      ┆            ┆ str         ┆          ┆   ┆        ┆ bool        ┆ i64         ┆            │\n",
       "╞══════╪════════════╪═════════════╪══════════╪═══╪════════╪═════════════╪═════════════╪════════════╡\n",
       "│ 2716 ┆ 2024-02-19 ┆ PA010       ┆ Tokyo    ┆ … ┆ 1502.5 ┆ false       ┆ 0           ┆ Nut Free   │\n",
       "│ 661  ┆ 2024-07-22 ┆ PA010       ┆ Tokyo    ┆ … ┆ 1540.0 ┆ false       ┆ 0           ┆ Dairy Free │\n",
       "│ 1742 ┆ 2024-10-14 ┆ PA009       ┆ New York ┆ … ┆ 1435.0 ┆ false       ┆ 1           ┆ Dairy Free │\n",
       "│ 2293 ┆ 2024-06-01 ┆ PA012       ┆ Tokyo    ┆ … ┆ 647.0  ┆ false       ┆ 2           ┆ Vegan      │\n",
       "│ 436  ┆ 2024-04-04 ┆ PA010       ┆ Tokyo    ┆ … ┆ 266.0  ┆ false       ┆ 1           ┆ Dairy Free │\n",
       "│ 3644 ┆ 2024-12-26 ┆ PA006       ┆ Tokyo    ┆ … ┆ 1060.0 ┆ true        ┆ 1           ┆ Vegan      │\n",
       "│ 3415 ┆ 2024-01-13 ┆ PA002       ┆ New York ┆ … ┆ 3040.0 ┆ false       ┆ 0           ┆ None       │\n",
       "│ 2943 ┆ 2024-07-30 ┆ PA011       ┆ Perth    ┆ … ┆ 1305.0 ┆ false       ┆ 1           ┆ Vegetarian │\n",
       "└──────┴────────────┴─────────────┴──────────┴───┴────────┴─────────────┴─────────────┴────────────┘"
      ]
     },
     "execution_count": 7,
     "metadata": {},
     "output_type": "execute_result"
    }
   ],
   "source": [
    "collected_data.sample(8)"
   ]
  },
  {
   "cell_type": "markdown",
   "id": "dfe1b475-6596-4cf1-b475-ac00a62ca11f",
   "metadata": {},
   "source": [
    "Output the data."
   ]
  },
  {
   "cell_type": "code",
   "execution_count": 8,
   "id": "6aeaf317-c898-4d12-9122-926f18c6e1e7",
   "metadata": {},
   "outputs": [],
   "source": [
    "collected_data.write_ndjson(OUTPUT_NDJSON)"
   ]
  }
 ],
 "metadata": {
  "kernelspec": {
   "display_name": "spring-24",
   "language": "python",
   "name": "spring-24"
  },
  "language_info": {
   "codemirror_mode": {
    "name": "ipython",
    "version": 3
   },
   "file_extension": ".py",
   "mimetype": "text/x-python",
   "name": "python",
   "nbconvert_exporter": "python",
   "pygments_lexer": "ipython3",
   "version": "3.11.7"
  }
 },
 "nbformat": 4,
 "nbformat_minor": 5
}
