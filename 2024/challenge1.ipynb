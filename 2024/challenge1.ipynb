{
 "cells": [
  {
   "cell_type": "markdown",
   "id": "2ee1bec1-f8e4-47dc-ab40-7efa957dfb66",
   "metadata": {},
   "source": [
    "# Week 1"
   ]
  },
  {
   "cell_type": "markdown",
   "id": "e6a6f62b-bbdc-4da8-a4b3-054dd8c16a50",
   "metadata": {},
   "source": [
    "```yaml\n",
    "title: \"Prep Air's Flow Card\"\n",
    "week: 1\n",
    "posted_on: 2024-01-03\n",
    "created_on: 2024-03-07\n",
    "last_upated: 2024-03-08\n",
    "input: [\n",
    "    \"PD 2024 Wk 1 Input.csv\"\n",
    "]\n",
    "output: [\n",
    "    \"passenger_flight_details.ndjson\"\n",
    "]\n",
    "```"
   ]
  },
  {
   "cell_type": "markdown",
   "id": "266a0764-e954-4e8d-9dd1-ca489bdb1c71",
   "metadata": {},
   "source": [
    "## Setup the notebook"
   ]
  },
  {
   "cell_type": "code",
   "execution_count": 1,
   "id": "eb092836-7198-4297-8b5f-033b8d97f34a",
   "metadata": {},
   "outputs": [],
   "source": [
    "import polars as pl\n",
    "from src.week1 import run_pipeline"
   ]
  },
  {
   "cell_type": "markdown",
   "id": "31069b74-5f66-4b73-a6f8-e9f1e612292b",
   "metadata": {},
   "source": [
    "## Parameters"
   ]
  },
  {
   "cell_type": "code",
   "execution_count": 2,
   "id": "0fec49d8-30ab-4954-89a8-49bd32f67df3",
   "metadata": {},
   "outputs": [],
   "source": [
    "INPUT_CSV = \"input/PD 2024 Wk 1 Input.csv\"\n",
    "OUTPUT_NDJSON = \"output/passenger_flight_details.ndjson\""
   ]
  },
  {
   "cell_type": "markdown",
   "id": "6183ab85-64ee-4e2f-a715-7d43ad61dc7c",
   "metadata": {},
   "source": [
    "## Run the pipline"
   ]
  },
  {
   "cell_type": "markdown",
   "id": "141cd230-4e89-4866-b72b-79ce277453be",
   "metadata": {},
   "source": [
    "Load the data."
   ]
  },
  {
   "cell_type": "code",
   "execution_count": 3,
   "id": "e42db3a4-ab15-4408-abed-7d2166fb5024",
   "metadata": {},
   "outputs": [],
   "source": [
    "raw_data = pl.scan_csv(INPUT_CSV)"
   ]
  },
  {
   "cell_type": "markdown",
   "id": "9d1ac202-8181-46c2-b0b9-2a0c32d99e48",
   "metadata": {},
   "source": [
    "Preview the input data."
   ]
  },
  {
   "cell_type": "code",
   "execution_count": 7,
   "id": "cdc91f81-accc-47f1-9bb9-6398bbda2c77",
   "metadata": {},
   "outputs": [
    {
     "data": {
      "text/html": [
       "<div><style>\n",
       ".dataframe > thead > tr,\n",
       ".dataframe > tbody > tr {\n",
       "  text-align: right;\n",
       "  white-space: pre-wrap;\n",
       "}\n",
       "</style>\n",
       "<small>shape: (8, 4)</small><table border=\"1\" class=\"dataframe\"><thead><tr><th>Flight Details</th><th>Flow Card?</th><th>Bags Checked</th><th>Meal Type</th></tr><tr><td>str</td><td>i64</td><td>i64</td><td>str</td></tr></thead><tbody><tr><td>&quot;2024-05-14//PA…</td><td>1</td><td>2</td><td>&quot;Vegan&quot;</td></tr><tr><td>&quot;2024-03-12//PA…</td><td>1</td><td>0</td><td>&quot;Vegan&quot;</td></tr><tr><td>&quot;2024-12-20//PA…</td><td>1</td><td>3</td><td>&quot;Egg Free&quot;</td></tr><tr><td>&quot;2024-11-29//PA…</td><td>0</td><td>0</td><td>&quot;Dairy Free&quot;</td></tr><tr><td>&quot;2024-09-16//PA…</td><td>1</td><td>3</td><td>&quot;Dairy Free&quot;</td></tr><tr><td>&quot;2024-05-28//PA…</td><td>1</td><td>2</td><td>&quot;Dairy Free&quot;</td></tr><tr><td>&quot;2024-12-03//PA…</td><td>1</td><td>3</td><td>&quot;Nut Free&quot;</td></tr><tr><td>&quot;2024-07-26//PA…</td><td>1</td><td>1</td><td>&quot;Egg Free&quot;</td></tr></tbody></table></div>"
      ],
      "text/plain": [
       "shape: (8, 4)\n",
       "┌───────────────────────────────────┬────────────┬──────────────┬────────────┐\n",
       "│ Flight Details                    ┆ Flow Card? ┆ Bags Checked ┆ Meal Type  │\n",
       "│ ---                               ┆ ---        ┆ ---          ┆ ---        │\n",
       "│ str                               ┆ i64        ┆ i64          ┆ str        │\n",
       "╞═══════════════════════════════════╪════════════╪══════════════╪════════════╡\n",
       "│ 2024-05-14//PA001//London-New Yo… ┆ 1          ┆ 2            ┆ Vegan      │\n",
       "│ 2024-03-12//PA007//New York-Pert… ┆ 1          ┆ 0            ┆ Vegan      │\n",
       "│ 2024-12-20//PA009//New York-Toky… ┆ 1          ┆ 3            ┆ Egg Free   │\n",
       "│ 2024-11-29//PA004//Perth-London/… ┆ 0          ┆ 0            ┆ Dairy Free │\n",
       "│ 2024-09-16//PA004//Perth-London/… ┆ 1          ┆ 3            ┆ Dairy Free │\n",
       "│ 2024-05-28//PA005//London-Tokyo/… ┆ 1          ┆ 2            ┆ Dairy Free │\n",
       "│ 2024-12-03//PA004//Perth-London/… ┆ 1          ┆ 3            ┆ Nut Free   │\n",
       "│ 2024-07-26//PA012//Tokyo-Perth//… ┆ 1          ┆ 1            ┆ Egg Free   │\n",
       "└───────────────────────────────────┴────────────┴──────────────┴────────────┘"
      ]
     },
     "execution_count": 7,
     "metadata": {},
     "output_type": "execute_result"
    }
   ],
   "source": [
    "raw_data.collect().sample(8)"
   ]
  },
  {
   "cell_type": "markdown",
   "id": "226b3bd9-d05c-4de0-a25e-6b3e3db8ef09",
   "metadata": {},
   "source": [
    "Run the transformation pipeline."
   ]
  },
  {
   "cell_type": "code",
   "execution_count": 4,
   "id": "2d11c09e-24ad-4fd1-89a2-e1e48b857910",
   "metadata": {},
   "outputs": [],
   "source": [
    "transformed_data = raw_data.pipe(run_pipeline)"
   ]
  },
  {
   "cell_type": "markdown",
   "id": "f5f17510-6924-4fc9-8288-1db1c512ef2c",
   "metadata": {},
   "source": [
    "This is the end of the activity, so collect the data."
   ]
  },
  {
   "cell_type": "code",
   "execution_count": 5,
   "id": "1232521e-5989-4c12-a8a3-ab73bc791ee8",
   "metadata": {},
   "outputs": [],
   "source": [
    "collected_data = transformed_data.collect()"
   ]
  },
  {
   "cell_type": "markdown",
   "id": "17cc081b-d9fa-4935-93c0-135b3ef40566",
   "metadata": {},
   "source": [
    "Preview the output data."
   ]
  },
  {
   "cell_type": "code",
   "execution_count": 8,
   "id": "678275e5-8ccf-4e02-ba47-e4e4df39be5c",
   "metadata": {},
   "outputs": [
    {
     "data": {
      "text/html": [
       "<div><style>\n",
       ".dataframe > thead > tr,\n",
       ".dataframe > tbody > tr {\n",
       "  text-align: right;\n",
       "  white-space: pre-wrap;\n",
       "}\n",
       "</style>\n",
       "<small>shape: (8, 10)</small><table border=\"1\" class=\"dataframe\"><thead><tr><th>id</th><th>date</th><th>flight_number</th><th>from</th><th>to</th><th>class</th><th>price</th><th>has_flow_card</th><th>number_of_bags_checked</th><th>meal_type</th></tr><tr><td>u32</td><td>str</td><td>str</td><td>str</td><td>str</td><td>str</td><td>str</td><td>bool</td><td>i64</td><td>str</td></tr></thead><tbody><tr><td>365</td><td>&quot;2024-05-06&quot;</td><td>&quot;PA004&quot;</td><td>&quot;Perth&quot;</td><td>&quot;London&quot;</td><td>&quot;First Class&quot;</td><td>&quot;318&quot;</td><td>false</td><td>1</td><td>&quot;Vegan&quot;</td></tr><tr><td>1859</td><td>&quot;2024-04-05&quot;</td><td>&quot;PA005&quot;</td><td>&quot;London&quot;</td><td>&quot;Tokyo&quot;</td><td>&quot;Premium Econom…</td><td>&quot;1552.5&quot;</td><td>true</td><td>0</td><td>&quot;Egg Free&quot;</td></tr><tr><td>1053</td><td>&quot;2024-08-03&quot;</td><td>&quot;PA010&quot;</td><td>&quot;Tokyo&quot;</td><td>&quot;New York&quot;</td><td>&quot;Business Class…</td><td>&quot;714&quot;</td><td>false</td><td>0</td><td>&quot;Vegetarian&quot;</td></tr><tr><td>711</td><td>&quot;2024-07-03&quot;</td><td>&quot;PA005&quot;</td><td>&quot;London&quot;</td><td>&quot;Tokyo&quot;</td><td>&quot;Business Class…</td><td>&quot;374.3999999999…</td><td>false</td><td>3</td><td>&quot;Nut Free&quot;</td></tr><tr><td>1194</td><td>&quot;2024-06-12&quot;</td><td>&quot;PA001&quot;</td><td>&quot;London&quot;</td><td>&quot;New York&quot;</td><td>&quot;Business Class…</td><td>&quot;328.8000000000…</td><td>true</td><td>1</td><td>&quot;Egg Free&quot;</td></tr><tr><td>2909</td><td>&quot;2024-03-26&quot;</td><td>&quot;PA011&quot;</td><td>&quot;Perth&quot;</td><td>&quot;Tokyo&quot;</td><td>&quot;First Class&quot;</td><td>&quot;529&quot;</td><td>true</td><td>0</td><td>&quot;None&quot;</td></tr><tr><td>1050</td><td>&quot;2024-10-30&quot;</td><td>&quot;PA001&quot;</td><td>&quot;London&quot;</td><td>&quot;New York&quot;</td><td>&quot;Premium Econom…</td><td>&quot;1622.5&quot;</td><td>false</td><td>3</td><td>&quot;Vegan&quot;</td></tr><tr><td>2951</td><td>&quot;2024-12-21&quot;</td><td>&quot;PA009&quot;</td><td>&quot;New York&quot;</td><td>&quot;Tokyo&quot;</td><td>&quot;First Class&quot;</td><td>&quot;272&quot;</td><td>false</td><td>2</td><td>&quot;Egg Free&quot;</td></tr></tbody></table></div>"
      ],
      "text/plain": [
       "shape: (8, 10)\n",
       "┌──────┬────────────┬────────────┬──────────┬───┬────────────┬────────────┬────────────┬───────────┐\n",
       "│ id   ┆ date       ┆ flight_num ┆ from     ┆ … ┆ price      ┆ has_flow_c ┆ number_of_ ┆ meal_type │\n",
       "│ ---  ┆ ---        ┆ ber        ┆ ---      ┆   ┆ ---        ┆ ard        ┆ bags_check ┆ ---       │\n",
       "│ u32  ┆ str        ┆ ---        ┆ str      ┆   ┆ str        ┆ ---        ┆ ed         ┆ str       │\n",
       "│      ┆            ┆ str        ┆          ┆   ┆            ┆ bool       ┆ ---        ┆           │\n",
       "│      ┆            ┆            ┆          ┆   ┆            ┆            ┆ i64        ┆           │\n",
       "╞══════╪════════════╪════════════╪══════════╪═══╪════════════╪════════════╪════════════╪═══════════╡\n",
       "│ 365  ┆ 2024-05-06 ┆ PA004      ┆ Perth    ┆ … ┆ 318        ┆ false      ┆ 1          ┆ Vegan     │\n",
       "│ 1859 ┆ 2024-04-05 ┆ PA005      ┆ London   ┆ … ┆ 1552.5     ┆ true       ┆ 0          ┆ Egg Free  │\n",
       "│ 1053 ┆ 2024-08-03 ┆ PA010      ┆ Tokyo    ┆ … ┆ 714        ┆ false      ┆ 0          ┆ Vegetaria │\n",
       "│      ┆            ┆            ┆          ┆   ┆            ┆            ┆            ┆ n         │\n",
       "│ 711  ┆ 2024-07-03 ┆ PA005      ┆ London   ┆ … ┆ 374.399999 ┆ false      ┆ 3          ┆ Nut Free  │\n",
       "│      ┆            ┆            ┆          ┆   ┆ 99999998   ┆            ┆            ┆           │\n",
       "│ 1194 ┆ 2024-06-12 ┆ PA001      ┆ London   ┆ … ┆ 328.800000 ┆ true       ┆ 1          ┆ Egg Free  │\n",
       "│      ┆            ┆            ┆          ┆   ┆ 00000001   ┆            ┆            ┆           │\n",
       "│ 2909 ┆ 2024-03-26 ┆ PA011      ┆ Perth    ┆ … ┆ 529        ┆ true       ┆ 0          ┆ None      │\n",
       "│ 1050 ┆ 2024-10-30 ┆ PA001      ┆ London   ┆ … ┆ 1622.5     ┆ false      ┆ 3          ┆ Vegan     │\n",
       "│ 2951 ┆ 2024-12-21 ┆ PA009      ┆ New York ┆ … ┆ 272        ┆ false      ┆ 2          ┆ Egg Free  │\n",
       "└──────┴────────────┴────────────┴──────────┴───┴────────────┴────────────┴────────────┴───────────┘"
      ]
     },
     "execution_count": 8,
     "metadata": {},
     "output_type": "execute_result"
    }
   ],
   "source": [
    "collected_data.sample(8)"
   ]
  },
  {
   "cell_type": "markdown",
   "id": "dfe1b475-6596-4cf1-b475-ac00a62ca11f",
   "metadata": {},
   "source": [
    "Output the data."
   ]
  },
  {
   "cell_type": "code",
   "execution_count": 6,
   "id": "ab1c3534-95b2-4b90-9644-b055c107af71",
   "metadata": {},
   "outputs": [],
   "source": [
    "collected_data.write_ndjson(OUTPUT_NDJSON)"
   ]
  }
 ],
 "metadata": {
  "kernelspec": {
   "display_name": "spring-24",
   "language": "python",
   "name": "spring-24"
  },
  "language_info": {
   "codemirror_mode": {
    "name": "ipython",
    "version": 3
   },
   "file_extension": ".py",
   "mimetype": "text/x-python",
   "name": "python",
   "nbconvert_exporter": "python",
   "pygments_lexer": "ipython3",
   "version": "3.11.7"
  }
 },
 "nbformat": 4,
 "nbformat_minor": 5
}
