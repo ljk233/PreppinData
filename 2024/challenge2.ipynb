{
 "cells": [
  {
   "cell_type": "markdown",
   "id": "3b3ce6f2-60d7-4a7b-a05c-aa8618c89235",
   "metadata": {},
   "source": [
    "# Challenge 2"
   ]
  },
  {
   "cell_type": "markdown",
   "id": "0583dad1-01d4-40ae-aee3-dfce51284f13",
   "metadata": {},
   "source": [
    "```yaml\n",
    "title: \"Performance Against Targets\"\n",
    "week: 3\n",
    "posted_on: 2024-01-17\n",
    "created_on: 2024-03-08\n",
    "last_upated: 2024-03-08\n",
    "```"
   ]
  },
  {
   "cell_type": "markdown",
   "id": "85f91bc7-05ab-4c4a-aa32-06e63cfa80d9",
   "metadata": {},
   "source": [
    "## Setup the notebook"
   ]
  },
  {
   "cell_type": "code",
   "execution_count": 1,
   "id": "9fd29eac-96e3-466d-9956-dd2ed130dae4",
   "metadata": {},
   "outputs": [],
   "source": [
    "import polars as pl\n",
    "\n",
    "from src.challenge2 import run_pipeline"
   ]
  },
  {
   "cell_type": "markdown",
   "id": "10fd8fcd-e9b6-473a-b543-c2fc100814a5",
   "metadata": {},
   "source": [
    "## Parameters"
   ]
  },
  {
   "cell_type": "code",
   "execution_count": 2,
   "id": "b4ac5ce0-e07e-4518-ad10-d1eeeb5918ee",
   "metadata": {},
   "outputs": [],
   "source": [
    "INPUT_CSV = \"input/PD 2024 Wk 1 Input.csv\"\n",
    "OUTPUT_NDJSON = \"output/aggregated_quarterly_price_data_by_class_flow_card.ndjson\""
   ]
  },
  {
   "cell_type": "markdown",
   "id": "55ae050d-44c5-4ab6-b107-7d380785da9a",
   "metadata": {},
   "source": [
    "## Run the pipeline"
   ]
  },
  {
   "cell_type": "markdown",
   "id": "a0d501e8-d5fd-40fe-b00e-81397ab8df47",
   "metadata": {},
   "source": [
    "Load the data."
   ]
  },
  {
   "cell_type": "code",
   "execution_count": 3,
   "id": "b20d8df0-62ae-4447-8711-e8f66b2f95c7",
   "metadata": {},
   "outputs": [],
   "source": [
    "data = pl.scan_csv(INPUT_CSV)"
   ]
  },
  {
   "cell_type": "markdown",
   "id": "069e2fa2-d7ad-4025-877c-60811763a3ed",
   "metadata": {},
   "source": [
    "Preview the input data."
   ]
  },
  {
   "cell_type": "code",
   "execution_count": 4,
   "id": "d4ba3a89-9a08-4239-b9f7-9e0b65601016",
   "metadata": {},
   "outputs": [
    {
     "data": {
      "text/html": [
       "<div><style>\n",
       ".dataframe > thead > tr,\n",
       ".dataframe > tbody > tr {\n",
       "  text-align: right;\n",
       "  white-space: pre-wrap;\n",
       "}\n",
       "</style>\n",
       "<small>shape: (8, 4)</small><table border=\"1\" class=\"dataframe\"><thead><tr><th>Flight Details</th><th>Flow Card?</th><th>Bags Checked</th><th>Meal Type</th></tr><tr><td>str</td><td>i64</td><td>i64</td><td>str</td></tr></thead><tbody><tr><td>&quot;2024-11-03//PA…</td><td>1</td><td>1</td><td>&quot;Dairy Free&quot;</td></tr><tr><td>&quot;2024-01-18//PA…</td><td>0</td><td>1</td><td>&quot;None&quot;</td></tr><tr><td>&quot;2024-05-28//PA…</td><td>1</td><td>1</td><td>&quot;Dairy Free&quot;</td></tr><tr><td>&quot;2024-12-31//PA…</td><td>1</td><td>0</td><td>&quot;Egg Free&quot;</td></tr><tr><td>&quot;2024-10-07//PA…</td><td>0</td><td>1</td><td>&quot;Nut Free&quot;</td></tr><tr><td>&quot;2024-08-25//PA…</td><td>0</td><td>0</td><td>&quot;Egg Free&quot;</td></tr><tr><td>&quot;2024-07-30//PA…</td><td>0</td><td>1</td><td>&quot;Nut Free&quot;</td></tr><tr><td>&quot;2024-02-12//PA…</td><td>0</td><td>1</td><td>&quot;Nut Free&quot;</td></tr></tbody></table></div>"
      ],
      "text/plain": [
       "shape: (8, 4)\n",
       "┌───────────────────────────────────┬────────────┬──────────────┬────────────┐\n",
       "│ Flight Details                    ┆ Flow Card? ┆ Bags Checked ┆ Meal Type  │\n",
       "│ ---                               ┆ ---        ┆ ---          ┆ ---        │\n",
       "│ str                               ┆ i64        ┆ i64          ┆ str        │\n",
       "╞═══════════════════════════════════╪════════════╪══════════════╪════════════╡\n",
       "│ 2024-11-03//PA008//Perth-New Yor… ┆ 1          ┆ 1            ┆ Dairy Free │\n",
       "│ 2024-01-18//PA010//Tokyo-New Yor… ┆ 0          ┆ 1            ┆ None       │\n",
       "│ 2024-05-28//PA007//New York-Pert… ┆ 1          ┆ 1            ┆ Dairy Free │\n",
       "│ 2024-12-31//PA001//London-New Yo… ┆ 1          ┆ 0            ┆ Egg Free   │\n",
       "│ 2024-10-07//PA006//Tokyo-London/… ┆ 0          ┆ 1            ┆ Nut Free   │\n",
       "│ 2024-08-25//PA010//Tokyo-New Yor… ┆ 0          ┆ 0            ┆ Egg Free   │\n",
       "│ 2024-07-30//PA005//London-Tokyo/… ┆ 0          ┆ 1            ┆ Nut Free   │\n",
       "│ 2024-02-12//PA012//Tokyo-Perth//… ┆ 0          ┆ 1            ┆ Nut Free   │\n",
       "└───────────────────────────────────┴────────────┴──────────────┴────────────┘"
      ]
     },
     "execution_count": 4,
     "metadata": {},
     "output_type": "execute_result"
    }
   ],
   "source": [
    "data.collect().sample(8)"
   ]
  },
  {
   "cell_type": "markdown",
   "id": "4aadeb17-b06a-49da-aa1f-ce266ff9b43b",
   "metadata": {},
   "source": [
    "Run the transformation pipeline."
   ]
  },
  {
   "cell_type": "code",
   "execution_count": 5,
   "id": "d9a436fb-1c46-4c33-a430-97e0154ea2d1",
   "metadata": {},
   "outputs": [],
   "source": [
    "transformed_data = data.pipe(run_pipeline)"
   ]
  },
  {
   "cell_type": "markdown",
   "id": "866eef31-e482-4999-afb2-dcdd3b88f55e",
   "metadata": {},
   "source": [
    "This is the end of the activity, so collect the data."
   ]
  },
  {
   "cell_type": "code",
   "execution_count": 6,
   "id": "1bfefff5-a530-4b65-81d0-3aac10b05acc",
   "metadata": {},
   "outputs": [],
   "source": [
    "collected_data = transformed_data.collect()"
   ]
  },
  {
   "cell_type": "markdown",
   "id": "7811006a-8ca8-40dd-b44e-1f3858bde281",
   "metadata": {},
   "source": [
    "Preview the output data."
   ]
  },
  {
   "cell_type": "code",
   "execution_count": 7,
   "id": "6e524667-62df-4bf1-a6de-41e44bdda294",
   "metadata": {},
   "outputs": [
    {
     "data": {
      "text/html": [
       "<div><style>\n",
       ".dataframe > thead > tr,\n",
       ".dataframe > tbody > tr {\n",
       "  text-align: right;\n",
       "  white-space: pre-wrap;\n",
       "}\n",
       "</style>\n",
       "<small>shape: (8, 7)</small><table border=\"1\" class=\"dataframe\"><thead><tr><th>has_flow_card</th><th>quarter</th><th>price_aggregate</th><th>economy_class</th><th>premium_economy_class</th><th>business_class</th><th>first_class</th></tr><tr><td>bool</td><td>i8</td><td>str</td><td>f64</td><td>f64</td><td>f64</td><td>f64</td></tr></thead><tbody><tr><td>true</td><td>2</td><td>&quot;median_price&quot;</td><td>459.0</td><td>517.8</td><td>1071.25</td><td>2290.0</td></tr><tr><td>true</td><td>1</td><td>&quot;min_price&quot;</td><td>201.0</td><td>249.6</td><td>502.5</td><td>1020.0</td></tr><tr><td>false</td><td>2</td><td>&quot;max_price&quot;</td><td>694.0</td><td>828.0</td><td>1745.0</td><td>3480.0</td></tr><tr><td>false</td><td>3</td><td>&quot;min_price&quot;</td><td>201.0</td><td>240.0</td><td>517.5</td><td>1000.0</td></tr><tr><td>false</td><td>2</td><td>&quot;median_price&quot;</td><td>445.0</td><td>553.8</td><td>1205.0</td><td>2325.0</td></tr><tr><td>true</td><td>3</td><td>&quot;median_price&quot;</td><td>457.0</td><td>553.8</td><td>1090.0</td><td>2347.5</td></tr><tr><td>true</td><td>2</td><td>&quot;min_price&quot;</td><td>200.0</td><td>240.0</td><td>500.0</td><td>1020.0</td></tr><tr><td>false</td><td>1</td><td>&quot;min_price&quot;</td><td>204.0</td><td>241.2</td><td>515.0</td><td>1030.0</td></tr></tbody></table></div>"
      ],
      "text/plain": [
       "shape: (8, 7)\n",
       "┌──────────────┬─────────┬──────────────┬──────────────┬──────────────┬──────────────┬─────────────┐\n",
       "│ has_flow_car ┆ quarter ┆ price_aggreg ┆ economy_clas ┆ premium_econ ┆ business_cla ┆ first_class │\n",
       "│ d            ┆ ---     ┆ ate          ┆ s            ┆ omy_class    ┆ ss           ┆ ---         │\n",
       "│ ---          ┆ i8      ┆ ---          ┆ ---          ┆ ---          ┆ ---          ┆ f64         │\n",
       "│ bool         ┆         ┆ str          ┆ f64          ┆ f64          ┆ f64          ┆             │\n",
       "╞══════════════╪═════════╪══════════════╪══════════════╪══════════════╪══════════════╪═════════════╡\n",
       "│ true         ┆ 2       ┆ median_price ┆ 459.0        ┆ 517.8        ┆ 1071.25      ┆ 2290.0      │\n",
       "│ true         ┆ 1       ┆ min_price    ┆ 201.0        ┆ 249.6        ┆ 502.5        ┆ 1020.0      │\n",
       "│ false        ┆ 2       ┆ max_price    ┆ 694.0        ┆ 828.0        ┆ 1745.0       ┆ 3480.0      │\n",
       "│ false        ┆ 3       ┆ min_price    ┆ 201.0        ┆ 240.0        ┆ 517.5        ┆ 1000.0      │\n",
       "│ false        ┆ 2       ┆ median_price ┆ 445.0        ┆ 553.8        ┆ 1205.0       ┆ 2325.0      │\n",
       "│ true         ┆ 3       ┆ median_price ┆ 457.0        ┆ 553.8        ┆ 1090.0       ┆ 2347.5      │\n",
       "│ true         ┆ 2       ┆ min_price    ┆ 200.0        ┆ 240.0        ┆ 500.0        ┆ 1020.0      │\n",
       "│ false        ┆ 1       ┆ min_price    ┆ 204.0        ┆ 241.2        ┆ 515.0        ┆ 1030.0      │\n",
       "└──────────────┴─────────┴──────────────┴──────────────┴──────────────┴──────────────┴─────────────┘"
      ]
     },
     "execution_count": 7,
     "metadata": {},
     "output_type": "execute_result"
    }
   ],
   "source": [
    "collected_data.sample(8)"
   ]
  },
  {
   "cell_type": "markdown",
   "id": "08afe305-9d0e-4509-9637-790fa4024568",
   "metadata": {},
   "source": [
    "Output the data."
   ]
  },
  {
   "cell_type": "code",
   "execution_count": 8,
   "id": "722965db-be01-4e5a-9b2f-bbd6c22e7b5c",
   "metadata": {},
   "outputs": [],
   "source": [
    "collected_data.write_ndjson(OUTPUT_NDJSON)"
   ]
  }
 ],
 "metadata": {
  "kernelspec": {
   "display_name": "spring-24",
   "language": "python",
   "name": "spring-24"
  },
  "language_info": {
   "codemirror_mode": {
    "name": "ipython",
    "version": 3
   },
   "file_extension": ".py",
   "mimetype": "text/x-python",
   "name": "python",
   "nbconvert_exporter": "python",
   "pygments_lexer": "ipython3",
   "version": "3.11.7"
  }
 },
 "nbformat": 4,
 "nbformat_minor": 5
}
