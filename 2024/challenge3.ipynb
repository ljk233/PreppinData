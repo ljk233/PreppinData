{
 "cells": [
  {
   "cell_type": "markdown",
   "id": "3b3ce6f2-60d7-4a7b-a05c-aa8618c89235",
   "metadata": {},
   "source": [
    "# Challenge 3"
   ]
  },
  {
   "cell_type": "markdown",
   "id": "0583dad1-01d4-40ae-aee3-dfce51284f13",
   "metadata": {},
   "source": [
    "```yaml\n",
    "title: \"\"\n",
    "week: 3\n",
    "posted_on: 2024-01-17\n",
    "created_on: 2024-03-08\n",
    "last_upated: 2024-03-08\n",
    "```"
   ]
  },
  {
   "cell_type": "markdown",
   "id": "85f91bc7-05ab-4c4a-aa32-06e63cfa80d9",
   "metadata": {},
   "source": [
    "## Setup the notebook"
   ]
  },
  {
   "cell_type": "code",
   "execution_count": 1,
   "id": "9fd29eac-96e3-466d-9956-dd2ed130dae4",
   "metadata": {},
   "outputs": [],
   "source": [
    "import polars as pl\n",
    "\n",
    "from src.challenge3 import run_pipeline"
   ]
  },
  {
   "cell_type": "markdown",
   "id": "10fd8fcd-e9b6-473a-b543-c2fc100814a5",
   "metadata": {},
   "source": [
    "## Parameters"
   ]
  },
  {
   "cell_type": "code",
   "execution_count": 2,
   "id": "b4ac5ce0-e07e-4518-ad10-d1eeeb5918ee",
   "metadata": {},
   "outputs": [],
   "source": [
    "WEEK1_INPUT_CSV = \"input/PD 2024 Wk 1 Input.csv\"\n",
    "WEEK3_INPUT_XLSX = \"input/PD 2024 Wk 3 Input.xlsx\"\n",
    "OUTPUT_NDJSON = \"output/difference_to_target.ndjson\""
   ]
  },
  {
   "cell_type": "markdown",
   "id": "55ae050d-44c5-4ab6-b107-7d380785da9a",
   "metadata": {},
   "source": [
    "## Run the pipeline"
   ]
  },
  {
   "cell_type": "markdown",
   "id": "a0d501e8-d5fd-40fe-b00e-81397ab8df47",
   "metadata": {},
   "source": [
    "Load the data."
   ]
  },
  {
   "cell_type": "code",
   "execution_count": 3,
   "id": "8e571d43-2b2e-4885-bda7-10bde4cbe3a8",
   "metadata": {},
   "outputs": [],
   "source": [
    "week1_data = pl.scan_csv(WEEK1_INPUT_CSV)"
   ]
  },
  {
   "cell_type": "code",
   "execution_count": 4,
   "id": "ef40ffa0-0736-4ec6-82fb-cc1318398a09",
   "metadata": {},
   "outputs": [],
   "source": [
    "sheet_names = [\"Q1\", \"Q2\", \"Q3\", \"Q4\"]\n",
    "week3_data_dict = pl.read_excel(WEEK3_INPUT_XLSX, sheet_name=sheet_names)"
   ]
  },
  {
   "cell_type": "markdown",
   "id": "4aadeb17-b06a-49da-aa1f-ce266ff9b43b",
   "metadata": {},
   "source": [
    "Run the pipeline."
   ]
  },
  {
   "cell_type": "code",
   "execution_count": 5,
   "id": "020b06af-3799-4a0c-b5c7-9d4b32371e8e",
   "metadata": {},
   "outputs": [],
   "source": [
    "output_data = run_pipeline(week1_data, week3_data_dict)"
   ]
  },
  {
   "cell_type": "markdown",
   "id": "866eef31-e482-4999-afb2-dcdd3b88f55e",
   "metadata": {},
   "source": [
    "This is the end of the activity, so collect the data."
   ]
  },
  {
   "cell_type": "code",
   "execution_count": 6,
   "id": "885c271e-bc27-4b5b-8869-5cdb0bd4c37a",
   "metadata": {},
   "outputs": [],
   "source": [
    "collected_data = output_data.collect()"
   ]
  },
  {
   "cell_type": "markdown",
   "id": "7811006a-8ca8-40dd-b44e-1f3858bde281",
   "metadata": {},
   "source": [
    "Preview the output data."
   ]
  },
  {
   "cell_type": "code",
   "execution_count": 7,
   "id": "178267de-a1f3-4daf-b40b-7bbebdd0982a",
   "metadata": {},
   "outputs": [
    {
     "data": {
      "text/html": [
       "<div><style>\n",
       ".dataframe > thead > tr,\n",
       ".dataframe > tbody > tr {\n",
       "  text-align: right;\n",
       "  white-space: pre-wrap;\n",
       "}\n",
       "</style>\n",
       "<small>shape: (8, 5)</small><table border=\"1\" class=\"dataframe\"><thead><tr><th>difference_to_taget</th><th>month</th><th>total_sales</th><th>class</th><th>target_sales</th></tr><tr><td>f64</td><td>i64</td><td>f64</td><td>str</td><td>i64</td></tr></thead><tbody><tr><td>-3935.0</td><td>5</td><td>85065.0</td><td>&quot;Business Class…</td><td>89000</td></tr><tr><td>15665.0</td><td>2</td><td>145665.0</td><td>&quot;First Class&quot;</td><td>130000</td></tr><tr><td>5490.0</td><td>7</td><td>97490.0</td><td>&quot;Business Class…</td><td>92000</td></tr><tr><td>73960.0</td><td>1</td><td>193960.0</td><td>&quot;First Class&quot;</td><td>120000</td></tr><tr><td>12315.0</td><td>3</td><td>152315.0</td><td>&quot;First Class&quot;</td><td>140000</td></tr><tr><td>13852.5</td><td>8</td><td>106852.5</td><td>&quot;Business Class…</td><td>93000</td></tr><tr><td>-171.0</td><td>3</td><td>31829.0</td><td>&quot;Economy&quot;</td><td>32000</td></tr><tr><td>-2667.0</td><td>4</td><td>31333.0</td><td>&quot;Economy&quot;</td><td>34000</td></tr></tbody></table></div>"
      ],
      "text/plain": [
       "shape: (8, 5)\n",
       "┌─────────────────────┬───────┬─────────────┬────────────────┬──────────────┐\n",
       "│ difference_to_taget ┆ month ┆ total_sales ┆ class          ┆ target_sales │\n",
       "│ ---                 ┆ ---   ┆ ---         ┆ ---            ┆ ---          │\n",
       "│ f64                 ┆ i64   ┆ f64         ┆ str            ┆ i64          │\n",
       "╞═════════════════════╪═══════╪═════════════╪════════════════╪══════════════╡\n",
       "│ -3935.0             ┆ 5     ┆ 85065.0     ┆ Business Class ┆ 89000        │\n",
       "│ 15665.0             ┆ 2     ┆ 145665.0    ┆ First Class    ┆ 130000       │\n",
       "│ 5490.0              ┆ 7     ┆ 97490.0     ┆ Business Class ┆ 92000        │\n",
       "│ 73960.0             ┆ 1     ┆ 193960.0    ┆ First Class    ┆ 120000       │\n",
       "│ 12315.0             ┆ 3     ┆ 152315.0    ┆ First Class    ┆ 140000       │\n",
       "│ 13852.5             ┆ 8     ┆ 106852.5    ┆ Business Class ┆ 93000        │\n",
       "│ -171.0              ┆ 3     ┆ 31829.0     ┆ Economy        ┆ 32000        │\n",
       "│ -2667.0             ┆ 4     ┆ 31333.0     ┆ Economy        ┆ 34000        │\n",
       "└─────────────────────┴───────┴─────────────┴────────────────┴──────────────┘"
      ]
     },
     "execution_count": 7,
     "metadata": {},
     "output_type": "execute_result"
    }
   ],
   "source": [
    "collected_data.sample(8)"
   ]
  },
  {
   "cell_type": "markdown",
   "id": "08afe305-9d0e-4509-9637-790fa4024568",
   "metadata": {},
   "source": [
    "Output the data."
   ]
  },
  {
   "cell_type": "code",
   "execution_count": 8,
   "id": "afe5e08f-8a9a-49d1-b2e3-b604d58aac11",
   "metadata": {},
   "outputs": [],
   "source": [
    "collected_data.write_ndjson(OUTPUT_NDJSON)"
   ]
  }
 ],
 "metadata": {
  "kernelspec": {
   "display_name": "spring-24",
   "language": "python",
   "name": "spring-24"
  },
  "language_info": {
   "codemirror_mode": {
    "name": "ipython",
    "version": 3
   },
   "file_extension": ".py",
   "mimetype": "text/x-python",
   "name": "python",
   "nbconvert_exporter": "python",
   "pygments_lexer": "ipython3",
   "version": "3.11.7"
  }
 },
 "nbformat": 4,
 "nbformat_minor": 5
}
