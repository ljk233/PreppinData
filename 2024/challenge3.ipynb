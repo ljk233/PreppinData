{
 "cells": [
  {
   "cell_type": "markdown",
   "id": "3b3ce6f2-60d7-4a7b-a05c-aa8618c89235",
   "metadata": {},
   "source": [
    "# Challenge 3"
   ]
  },
  {
   "cell_type": "markdown",
   "id": "0583dad1-01d4-40ae-aee3-dfce51284f13",
   "metadata": {},
   "source": [
    "```yaml\n",
    "title: \"\"\n",
    "week: 3\n",
    "posted_on: 2024-01-17\n",
    "created_on: 2024-03-08\n",
    "last_upated: 2024-03-08\n",
    "```"
   ]
  },
  {
   "cell_type": "markdown",
   "id": "85f91bc7-05ab-4c4a-aa32-06e63cfa80d9",
   "metadata": {},
   "source": [
    "## Setup the notebook"
   ]
  },
  {
   "cell_type": "code",
   "execution_count": 1,
   "id": "9fd29eac-96e3-466d-9956-dd2ed130dae4",
   "metadata": {},
   "outputs": [],
   "source": [
    "import polars as pl\n",
    "\n",
    "from src.challenge3 import run_pipeline"
   ]
  },
  {
   "cell_type": "markdown",
   "id": "10fd8fcd-e9b6-473a-b543-c2fc100814a5",
   "metadata": {},
   "source": [
    "## Parameters"
   ]
  },
  {
   "cell_type": "code",
   "execution_count": 2,
   "id": "b4ac5ce0-e07e-4518-ad10-d1eeeb5918ee",
   "metadata": {},
   "outputs": [],
   "source": [
    "WEEK1_INPUT_CSV = \"input/PD 2024 Wk 1 Input.csv\"\n",
    "WEEK3_INPUT_XLSX = \"input/PD 2024 Wk 3 Input.xlsx\"\n",
    "OUTPUT_NDJSON = \"output/sales_difference_to_target.ndjson\""
   ]
  },
  {
   "cell_type": "markdown",
   "id": "55ae050d-44c5-4ab6-b107-7d380785da9a",
   "metadata": {},
   "source": [
    "## Run the pipeline"
   ]
  },
  {
   "cell_type": "markdown",
   "id": "a0d501e8-d5fd-40fe-b00e-81397ab8df47",
   "metadata": {},
   "source": [
    "Load the data."
   ]
  },
  {
   "cell_type": "code",
   "execution_count": 3,
   "id": "8e571d43-2b2e-4885-bda7-10bde4cbe3a8",
   "metadata": {},
   "outputs": [],
   "source": [
    "week1_data = pl.scan_csv(WEEK1_INPUT_CSV)"
   ]
  },
  {
   "cell_type": "code",
   "execution_count": 4,
   "id": "ef40ffa0-0736-4ec6-82fb-cc1318398a09",
   "metadata": {},
   "outputs": [],
   "source": [
    "sheet_names = [\"Q1\", \"Q2\", \"Q3\", \"Q4\"]\n",
    "week3_data_dict = pl.read_excel(WEEK3_INPUT_XLSX, sheet_name=sheet_names)"
   ]
  },
  {
   "cell_type": "markdown",
   "id": "4aadeb17-b06a-49da-aa1f-ce266ff9b43b",
   "metadata": {},
   "source": [
    "Run the pipeline."
   ]
  },
  {
   "cell_type": "code",
   "execution_count": 5,
   "id": "020b06af-3799-4a0c-b5c7-9d4b32371e8e",
   "metadata": {},
   "outputs": [],
   "source": [
    "output_data = run_pipeline(week1_data, week3_data_dict)"
   ]
  },
  {
   "cell_type": "markdown",
   "id": "866eef31-e482-4999-afb2-dcdd3b88f55e",
   "metadata": {},
   "source": [
    "This is the end of the activity, so collect the data."
   ]
  },
  {
   "cell_type": "code",
   "execution_count": 6,
   "id": "885c271e-bc27-4b5b-8869-5cdb0bd4c37a",
   "metadata": {},
   "outputs": [],
   "source": [
    "collected_data = output_data.collect()"
   ]
  },
  {
   "cell_type": "markdown",
   "id": "7811006a-8ca8-40dd-b44e-1f3858bde281",
   "metadata": {},
   "source": [
    "Preview the output data."
   ]
  },
  {
   "cell_type": "code",
   "execution_count": 7,
   "id": "178267de-a1f3-4daf-b40b-7bbebdd0982a",
   "metadata": {},
   "outputs": [
    {
     "data": {
      "text/html": [
       "<div><style>\n",
       ".dataframe > thead > tr,\n",
       ".dataframe > tbody > tr {\n",
       "  text-align: right;\n",
       "  white-space: pre-wrap;\n",
       "}\n",
       "</style>\n",
       "<small>shape: (8, 5)</small><table border=\"1\" class=\"dataframe\"><thead><tr><th>difference_to_taget</th><th>month</th><th>total_sales</th><th>class</th><th>target_sales</th></tr><tr><td>f64</td><td>i64</td><td>f64</td><td>str</td><td>i64</td></tr></thead><tbody><tr><td>3038.4</td><td>6</td><td>46538.4</td><td>&quot;Premium Econom…</td><td>43500</td></tr><tr><td>-3652.0</td><td>12</td><td>45348.0</td><td>&quot;Premium Econom…</td><td>49000</td></tr><tr><td>73960.0</td><td>1</td><td>193960.0</td><td>&quot;First Class&quot;</td><td>120000</td></tr><tr><td>-4310.4</td><td>10</td><td>43689.6</td><td>&quot;Premium Econom…</td><td>48000</td></tr><tr><td>8398.0</td><td>5</td><td>42898.0</td><td>&quot;Economy&quot;</td><td>34500</td></tr><tr><td>-75405.0</td><td>11</td><td>154595.0</td><td>&quot;First Class&quot;</td><td>230000</td></tr><tr><td>15665.0</td><td>2</td><td>145665.0</td><td>&quot;First Class&quot;</td><td>130000</td></tr><tr><td>-5477.0</td><td>11</td><td>34023.0</td><td>&quot;Economy&quot;</td><td>39500</td></tr></tbody></table></div>"
      ],
      "text/plain": [
       "shape: (8, 5)\n",
       "┌─────────────────────┬───────┬─────────────┬─────────────────┬──────────────┐\n",
       "│ difference_to_taget ┆ month ┆ total_sales ┆ class           ┆ target_sales │\n",
       "│ ---                 ┆ ---   ┆ ---         ┆ ---             ┆ ---          │\n",
       "│ f64                 ┆ i64   ┆ f64         ┆ str             ┆ i64          │\n",
       "╞═════════════════════╪═══════╪═════════════╪═════════════════╪══════════════╡\n",
       "│ 3038.4              ┆ 6     ┆ 46538.4     ┆ Premium Economy ┆ 43500        │\n",
       "│ -3652.0             ┆ 12    ┆ 45348.0     ┆ Premium Economy ┆ 49000        │\n",
       "│ 73960.0             ┆ 1     ┆ 193960.0    ┆ First Class     ┆ 120000       │\n",
       "│ -4310.4             ┆ 10    ┆ 43689.6     ┆ Premium Economy ┆ 48000        │\n",
       "│ 8398.0              ┆ 5     ┆ 42898.0     ┆ Economy         ┆ 34500        │\n",
       "│ -75405.0            ┆ 11    ┆ 154595.0    ┆ First Class     ┆ 230000       │\n",
       "│ 15665.0             ┆ 2     ┆ 145665.0    ┆ First Class     ┆ 130000       │\n",
       "│ -5477.0             ┆ 11    ┆ 34023.0     ┆ Economy         ┆ 39500        │\n",
       "└─────────────────────┴───────┴─────────────┴─────────────────┴──────────────┘"
      ]
     },
     "execution_count": 7,
     "metadata": {},
     "output_type": "execute_result"
    }
   ],
   "source": [
    "collected_data.sample(8)"
   ]
  },
  {
   "cell_type": "markdown",
   "id": "08afe305-9d0e-4509-9637-790fa4024568",
   "metadata": {},
   "source": [
    "Output the data."
   ]
  },
  {
   "cell_type": "code",
   "execution_count": null,
   "id": "afe5e08f-8a9a-49d1-b2e3-b604d58aac11",
   "metadata": {},
   "outputs": [],
   "source": [
    "collected_data.write_ndjson(OUTPUT_NDJSON)"
   ]
  }
 ],
 "metadata": {
  "kernelspec": {
   "display_name": "spring-24",
   "language": "python",
   "name": "spring-24"
  },
  "language_info": {
   "codemirror_mode": {
    "name": "ipython",
    "version": 3
   },
   "file_extension": ".py",
   "mimetype": "text/x-python",
   "name": "python",
   "nbconvert_exporter": "python",
   "pygments_lexer": "ipython3",
   "version": "3.11.7"
  }
 },
 "nbformat": 4,
 "nbformat_minor": 5
}
