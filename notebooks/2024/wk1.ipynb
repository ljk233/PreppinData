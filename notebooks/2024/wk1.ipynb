{
 "cells": [
  {
   "cell_type": "markdown",
   "id": "2ee1bec1-f8e4-47dc-ab40-7efa957dfb66",
   "metadata": {},
   "source": [
    "# Week 1"
   ]
  },
  {
   "cell_type": "markdown",
   "id": "e6a6f62b-bbdc-4da8-a4b3-054dd8c16a50",
   "metadata": {},
   "source": [
    "```yml\n",
    "title: \"Prep Air's Flow Card\"\n",
    "week: 1\n",
    "posted_on: 2024-01-03\n",
    "created_on: 2024-03-07\n",
    "last_upated: 2024-03-08\n",
    "input: [\n",
    "    \"PD 2024 Wk 1 Input.csv\"\n",
    "]\n",
    "output: [\n",
    "    \"passenger_flight_details.ndjson\"\n",
    "]\n",
    "```"
   ]
  },
  {
   "cell_type": "markdown",
   "id": "266a0764-e954-4e8d-9dd1-ca489bdb1c71",
   "metadata": {},
   "source": [
    "## Setup the notebook"
   ]
  },
  {
   "cell_type": "code",
   "execution_count": 1,
   "id": "eb092836-7198-4297-8b5f-033b8d97f34a",
   "metadata": {},
   "outputs": [],
   "source": [
    "from pathlib import Path\n",
    "\n",
    "import polars as pl"
   ]
  },
  {
   "cell_type": "markdown",
   "id": "31069b74-5f66-4b73-a6f8-e9f1e612292b",
   "metadata": {},
   "source": [
    "## Parameters"
   ]
  },
  {
   "cell_type": "markdown",
   "id": "cf2490ca-006e-4502-84fd-42156bc1f77b",
   "metadata": {},
   "source": [
    "Directory names."
   ]
  },
  {
   "cell_type": "code",
   "execution_count": 2,
   "id": "fa95bf6a-17f1-4405-8ff8-9df730249ba6",
   "metadata": {},
   "outputs": [],
   "source": [
    "ROOT = Path(\"../..\")\n",
    "DATA = \"data\"\n",
    "INPUT = \"input\"\n",
    "OUTPUT = \"output\""
   ]
  },
  {
   "cell_type": "markdown",
   "id": "94b715d2-c90c-43f8-bd01-703ccafb694a",
   "metadata": {},
   "source": [
    "Input and output file names."
   ]
  },
  {
   "cell_type": "code",
   "execution_count": 3,
   "id": "2555c937-8548-4073-8367-e512480fd77f",
   "metadata": {},
   "outputs": [],
   "source": [
    "PASSENGER_FLIGHT_DETAILS_CSV = \"PD 2024 Wk 1 Input.csv\"\n",
    "PASSENGER_FLIGHT_DETAIL_NDJSON = \"passenger_flight_details.ndjson\""
   ]
  },
  {
   "cell_type": "markdown",
   "id": "6183ab85-64ee-4e2f-a715-7d43ad61dc7c",
   "metadata": {},
   "source": [
    "## Load the data"
   ]
  },
  {
   "cell_type": "code",
   "execution_count": 4,
   "id": "1002ca0c-5c48-4261-bbc8-763868d80f4f",
   "metadata": {},
   "outputs": [],
   "source": [
    "raw_data = pl.scan_csv(ROOT / DATA / INPUT / PASSENGER_FLIGHT_DETAILS_CSV)"
   ]
  },
  {
   "cell_type": "markdown",
   "id": "a742886b-8936-4fb5-b413-7d2049b32dfd",
   "metadata": {},
   "source": [
    "## Preprocess the data"
   ]
  },
  {
   "cell_type": "code",
   "execution_count": 5,
   "id": "0158dd8b-6710-45d8-82cf-74a225358dca",
   "metadata": {},
   "outputs": [],
   "source": [
    "pre_data = raw_data.with_row_index(\"id\").rename(\n",
    "    {\n",
    "        \"Flight Details\": \"flight_details\",\n",
    "        \"Flow Card?\": \"has_flow_card\",\n",
    "        \"Bags Checked\": \"number_of_bags_checked\",\n",
    "        \"Meal Type\": \"meal_type\",\n",
    "    }\n",
    ")"
   ]
  },
  {
   "cell_type": "markdown",
   "id": "d27dade2-29c8-43a6-bebb-dbfeb1dd5b76",
   "metadata": {},
   "source": [
    "## Transform the data"
   ]
  },
  {
   "cell_type": "code",
   "execution_count": 6,
   "id": "a4b52180-2abd-4265-ba60-1e34748e4d18",
   "metadata": {},
   "outputs": [],
   "source": [
    "clean_data = pre_data.with_columns(\n",
    "    pl.col(\"flight_details\").str.split(\"//\").cast(pl.Array(str, 5))\n",
    ").select(\n",
    "    \"id\",\n",
    "    pl.col(\"flight_details\").arr.get(0).str.to_date().alias(\"date\"),\n",
    "    pl.col(\"flight_details\").arr.get(1).alias(\"flight_number\"),\n",
    "    pl.col(\"flight_details\").arr.get(2).str.extract(r\"(\\w+\\s?\\w*)-\").alias(\"from\"),\n",
    "    pl.col(\"flight_details\").arr.get(2).str.extract(r\"-(\\w+\\s?\\w*)\").alias(\"to\"),\n",
    "    pl.col(\"flight_details\").arr.get(3).alias(\"class\"),\n",
    "    pl.col(\"flight_details\").arr.get(4).cast(float).alias(\"price\"),\n",
    "    pl.col(\"has_flow_card\").cast(pl.Boolean),\n",
    "    \"number_of_bags_checked\",\n",
    "    \"meal_type\",\n",
    ")"
   ]
  },
  {
   "cell_type": "markdown",
   "id": "8e9d1159-8511-4013-b7b3-bf35f318af67",
   "metadata": {},
   "source": [
    "## Export the data"
   ]
  },
  {
   "cell_type": "markdown",
   "id": "15868b52-3102-4ed9-bad5-14264a754d9c",
   "metadata": {},
   "source": [
    "We only export the full dataset, despite the direction of the exercise."
   ]
  },
  {
   "cell_type": "code",
   "execution_count": 7,
   "id": "c30ee0c2-f096-41ab-9661-b08f5d9fad3e",
   "metadata": {},
   "outputs": [],
   "source": [
    "clean_data.collect().write_ndjson(ROOT / DATA / OUTPUT / PASSENGER_FLIGHT_DETAIL_NDJSON)"
   ]
  }
 ],
 "metadata": {
  "jupytext": {
   "formats": "ipynb,py:hydrogen"
  },
  "kernelspec": {
   "display_name": "spring-24",
   "language": "python",
   "name": "spring-24"
  },
  "language_info": {
   "codemirror_mode": {
    "name": "ipython",
    "version": 3
   },
   "file_extension": ".py",
   "mimetype": "text/x-python",
   "name": "python",
   "nbconvert_exporter": "python",
   "pygments_lexer": "ipython3",
   "version": "3.11.7"
  }
 },
 "nbformat": 4,
 "nbformat_minor": 5
}
